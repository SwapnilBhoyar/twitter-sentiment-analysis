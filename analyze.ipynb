{
 "cells": [
  {
   "cell_type": "code",
   "execution_count": 1,
   "source": [
    "import tweepy\n",
    "import matplotlib.pyplot as plt\n",
    "from  textblob import TextBlob \n",
    "import csv\n",
    "import time\n",
    "from os import environ as env\n",
    "from dotenv import load_dotenv\n",
    "load_dotenv()"
   ],
   "outputs": [
    {
     "output_type": "execute_result",
     "data": {
      "text/plain": [
       "True"
      ]
     },
     "metadata": {},
     "execution_count": 1
    }
   ],
   "metadata": {}
  },
  {
   "cell_type": "code",
   "execution_count": 2,
   "source": [
    "api_key = env['API_KEY']\n",
    "api_secret = env['API_SECRET_KEY']\n",
    "access_token = env['ACCESS_TOKEN']\n",
    "access_secret = env['ACCESS_TOKEN_SECRET']"
   ],
   "outputs": [],
   "metadata": {}
  },
  {
   "cell_type": "code",
   "execution_count": 3,
   "source": [
    "auth = tweepy.OAuthHandler(api_key,api_secret)\n"
   ],
   "outputs": [],
   "metadata": {}
  },
  {
   "cell_type": "code",
   "execution_count": 4,
   "source": [
    "auth.set_access_token(access_token,access_secret)"
   ],
   "outputs": [],
   "metadata": {}
  },
  {
   "cell_type": "code",
   "execution_count": 5,
   "source": [
    "api_connect=tweepy.API(auth)"
   ],
   "outputs": [],
   "metadata": {}
  },
  {
   "cell_type": "code",
   "execution_count": 6,
   "source": [
    "tweet_data=api_connect.search('Joe Biden')"
   ],
   "outputs": [],
   "metadata": {}
  },
  {
   "cell_type": "code",
   "execution_count": null,
   "source": [
    "pos=0\n",
    "neg=0\n",
    "tweet_count=0\n",
    "opinion = [\"pos\",\"neg\",\"tweet_count\"]\n",
    "\n",
    "with open('data.csv', 'w') as csv_file:\n",
    "      csv_writer = csv.DictWriter(csv_file, fieldnames=opinion)\n",
    "      csv_writer.writeheader()\n",
    "\n",
    "while True:\n",
    "# printing line by line\n",
    "   with open('data.csv', 'a') as csv_file:\n",
    "      for tweet in tweet_data:\n",
    "         print(tweet.text)\n",
    "         analysis=TextBlob(tweet.text) # here it will apply NLP\\\n",
    "         print(analysis.sentiment)\n",
    "         tweet_count=tweet_count+1\n",
    "         # now checking polarity only\n",
    "         if analysis.sentiment.polarity > 0:\n",
    "            print(\"positive\")\n",
    "            pos=pos+1\n",
    "         elif analysis.sentiment[0]<0:\n",
    "            print(\"Negative\")\n",
    "            neg =neg+1\n",
    "         else :\n",
    "            print(\"Neutral\")\n",
    "         csv_writer = csv.DictWriter(csv_file, fieldnames=opinion)\n",
    "         info = {\n",
    "                  \"pos\": pos,\n",
    "                  \"neg\": neg,\n",
    "                  \"tweet_count\":tweet_count\n",
    "                  }\n",
    "         csv_writer.writerow(info)\n",
    "         print(pos, neg)\n",
    "         time.sleep(1)"
   ],
   "outputs": [],
   "metadata": {}
  }
 ],
 "metadata": {
  "orig_nbformat": 4,
  "language_info": {
   "name": "python",
   "version": "3.8.10",
   "mimetype": "text/x-python",
   "codemirror_mode": {
    "name": "ipython",
    "version": 3
   },
   "pygments_lexer": "ipython3",
   "nbconvert_exporter": "python",
   "file_extension": ".py"
  },
  "kernelspec": {
   "name": "python3",
   "display_name": "Python 3.8.10 64-bit"
  },
  "interpreter": {
   "hash": "31f2aee4e71d21fbe5cf8b01ff0e069b9275f58929596ceb00d14d90e3e16cd6"
  }
 },
 "nbformat": 4,
 "nbformat_minor": 2
}